{
 "cells": [
  {
   "cell_type": "markdown",
   "metadata": {},
   "source": [
    "# Part 2: Random Forest Classifier"
   ]
  },
  {
   "cell_type": "code",
   "execution_count": 1,
   "metadata": {},
   "outputs": [
    {
     "data": {
      "text/plain": [
       "Index(['Unnamed: 0', 'RD_NO', 'WEATHER_CONDITION', 'INJURIES_TOTAL', 'DAMAGE',\n",
       "       'CRASH_DAY_OF_WEEK', 'CRASH_MONTH', 'CRASH_HOUR', 'LIGHTING_CONDITION',\n",
       "       'MANEUVER', 'TRAFFICWAY_TYPE', 'PRIM_CONTRIBUTORY_CAUSE',\n",
       "       'POSTED_SPEED_LIMIT', 'LATITUDE', 'LONGITUDE', 'LOCATION',\n",
       "       'INJURIES_PER_PASSENGER', 'DANGER_SCORE', 'COMBINED_DANGER_SCORE'],\n",
       "      dtype='object')"
      ]
     },
     "execution_count": 1,
     "metadata": {},
     "output_type": "execute_result"
    }
   ],
   "source": [
    "import numpy as np\n",
    "import pandas as pd\n",
    "import csv\n",
    "from collections import Counter\n",
    "from sklearn.datasets import make_classification\n",
    "#from imblearn.over_sampling import SMOTE, ADASYN\n",
    "\n",
    "\n",
    "df = pd.read_csv('DF.csv')\n",
    "df.columns"
   ]
  },
  {
   "cell_type": "code",
   "execution_count": 4,
   "metadata": {},
   "outputs": [],
   "source": [
    "df= df.loc[:,[ 'WEATHER_CONDITION',\n",
    "       'CRASH_DAY_OF_WEEK', 'CRASH_MONTH', 'CRASH_HOUR', 'LIGHTING_CONDITION',\n",
    "       'MANEUVER', 'TRAFFICWAY_TYPE', 'PRIM_CONTRIBUTORY_CAUSE',\n",
    "       'POSTED_SPEED_LIMIT','COMBINED_DANGER_SCORE']]\n",
    "\n",
    "df.head()\n",
    "df_test_interest = df"
   ]
  },
  {
   "cell_type": "markdown",
   "metadata": {},
   "source": [
    "### 1. Using Upsampling/Downsampling to Handle Imbalanced Dataset"
   ]
  },
  {
   "cell_type": "code",
   "execution_count": 5,
   "metadata": {},
   "outputs": [
    {
     "name": "stdout",
     "output_type": "stream",
     "text": [
      "{1.0: 153383, 2.0: 180741, 3.0: 29925}\n"
     ]
    }
   ],
   "source": [
    "# Approach 1: Upsampling or known as oversampling\n",
    "\n",
    "## do RANDOM SAMPLING TO PICK EQUAL NUMBER OF DATA IN EACH Y GROUP\n",
    "# down sampling\n",
    "df4=df.reset_index()\n",
    "X=df4.drop(columns = 'COMBINED_DANGER_SCORE')\n",
    "y=df4.COMBINED_DANGER_SCORE\n",
    "\n",
    "# find the number of levels in y and number of entries associated with each level\n",
    "\n",
    "unique_levels = np.unique(y)\n",
    "unique_counts = {level: sum(y == level) for level in unique_levels}\n",
    "print(unique_counts)\n",
    "\n",
    "# find the target number of data points\n",
    "import operator\n",
    "unique_counts.items()\n",
    "max_level = max(unique_counts.items(), key=operator.itemgetter(1))[0]\n",
    "min_level = min(unique_counts.items(), key=operator.itemgetter(1))[0]\n",
    "target_number = unique_counts[max_level]\n",
    "target_number_min = unique_counts[min_level]\n",
    "\n",
    "# find which data points are associated with which group\n",
    "\n",
    "grouped_levels = {}\n",
    "for ii, level in enumerate(unique_levels):\n",
    "    obs_idx = [idx for idx, val in enumerate(y) if val == level]\n",
    "    grouped_levels[level] = obs_idx\n",
    "\n",
    "grouped_levels\n",
    "\n",
    "#oversampling\n",
    "sampled_levels={}\n",
    "from random import choices\n",
    "# sample indices\n",
    "for i in list(unique_levels):\n",
    "    if i != max_level:\n",
    "        sampled_levels[i] = choices(grouped_levels[i], k=target_number )\n",
    "    else:\n",
    "        sampled_levels[i] = grouped_levels[i]\n",
    "\n",
    "first = df4.iloc[sampled_levels[1]].reset_index()\n",
    "second = df4.iloc[sampled_levels[2]].reset_index()\n",
    "third = df4.iloc[sampled_levels[3]].reset_index()\n",
    "\n",
    "new_oversampled = pd.concat([first,second,third], axis = 0)\n",
    "new_oversampled = new_oversampled.drop(columns = ['level_0','index'])\n",
    "\n",
    "\n"
   ]
  },
  {
   "cell_type": "code",
   "execution_count": 4,
   "metadata": {},
   "outputs": [],
   "source": [
    "\n",
    "# Approach 2: Downsampling \n",
    "\n",
    "sampled_levels={}\n",
    "from random import choices\n",
    "# sample indices\n",
    "for i in list(unique_levels):\n",
    "    if i != min_level:\n",
    "        sampled_levels[i] = choices(grouped_levels[i], k=target_number_min )\n",
    "    else:\n",
    "        sampled_levels[i] = grouped_levels[i]\n",
    "\n",
    "first = df4.iloc[sampled_levels[1]].reset_index()\n",
    "second = df4.iloc[sampled_levels[2]].reset_index()\n",
    "third = df4.iloc[sampled_levels[3]].reset_index()\n",
    "\n",
    "new_downsampled = pd.concat([first,second,third], axis = 0)\n",
    "new_downsampled = new_downsampled.drop(columns = ['level_0','index'])"
   ]
  },
  {
   "cell_type": "code",
   "execution_count": 6,
   "metadata": {},
   "outputs": [],
   "source": [
    "df_train_interest = new_oversampled"
   ]
  },
  {
   "cell_type": "markdown",
   "metadata": {},
   "source": [
    "### 2. Dummy Binary Variables and Train-Test Preparation"
   ]
  },
  {
   "cell_type": "markdown",
   "metadata": {},
   "source": [
    "We have to convert categorical variables to categories for one-hot encoding.\n"
   ]
  },
  {
   "cell_type": "code",
   "execution_count": 7,
   "metadata": {
    "scrolled": true
   },
   "outputs": [
    {
     "name": "stdout",
     "output_type": "stream",
     "text": [
      "WEATHER_CONDITION          object\n",
      "CRASH_DAY_OF_WEEK           int64\n",
      "LIGHTING_CONDITION         object\n",
      "MANEUVER                   object\n",
      "TRAFFICWAY_TYPE            object\n",
      "PRIM_CONTRIBUTORY_CAUSE    object\n",
      "dtype: object\n"
     ]
    }
   ],
   "source": [
    "# Define the lambda function: categorize_label\n",
    "# Define the lambda function: categorize_label\n",
    "categorize_label = lambda x: x.astype('category')\n",
    "labels = ['WEATHER_CONDITION', 'CRASH_DAY_OF_WEEK','LIGHTING_CONDITION','MANEUVER', 'TRAFFICWAY_TYPE', 'PRIM_CONTRIBUTORY_CAUSE']\n",
    "# Convert df[LABELS] to a categorical type\n",
    "#df_train_interest[labels] = df_train_interest[labels].astype('category')\n",
    "print(df_train_interest[labels].dtypes)"
   ]
  },
  {
   "cell_type": "code",
   "execution_count": 8,
   "metadata": {},
   "outputs": [],
   "source": [
    "df_train_interest = pd.get_dummies(df_train_interest, drop_first = True)\n",
    "df_test_interest = pd.get_dummies(df_test_interest, drop_first = True)\n"
   ]
  },
  {
   "cell_type": "code",
   "execution_count": 9,
   "metadata": {},
   "outputs": [],
   "source": [
    "from sklearn.model_selection import train_test_split\n",
    "train_df1, test_df1 = train_test_split(df_train_interest, test_size=0.2, random_state=100)\n",
    "train_df2, test_df2 = train_test_split(df_test_interest, test_size=0.2, random_state=100)\n",
    "\n",
    "X_train = train_df1.drop(columns = 'COMBINED_DANGER_SCORE')\n",
    "Y_train = train_df1.COMBINED_DANGER_SCORE\n",
    "X_test  = test_df2.drop(columns = 'COMBINED_DANGER_SCORE')\n",
    "Y_test = test_df2.COMBINED_DANGER_SCORE\n",
    "\n"
   ]
  },
  {
   "cell_type": "markdown",
   "metadata": {},
   "source": [
    "### 3. Determining Out-of-Bag (OOB) Loss Against Number of Estimators in Random Forest Classifier"
   ]
  },
  {
   "cell_type": "code",
   "execution_count": 14,
   "metadata": {
    "scrolled": true
   },
   "outputs": [
    {
     "name": "stdout",
     "output_type": "stream",
     "text": [
      "calculating for trees = 5\n"
     ]
    },
    {
     "name": "stderr",
     "output_type": "stream",
     "text": [
      "D:\\Users\\Jonathan\\Anaconda3\\lib\\site-packages\\sklearn\\ensemble\\forest.py:453: UserWarning: Some inputs do not have OOB scores. This probably means too few trees were used to compute any reliable oob estimates.\n",
      "  warn(\"Some inputs do not have OOB scores. \"\n",
      "D:\\Users\\Jonathan\\Anaconda3\\lib\\site-packages\\sklearn\\ensemble\\forest.py:458: RuntimeWarning: invalid value encountered in true_divide\n",
      "  predictions[k].sum(axis=1)[:, np.newaxis])\n"
     ]
    },
    {
     "name": "stdout",
     "output_type": "stream",
     "text": [
      "calculating for trees = 10\n"
     ]
    },
    {
     "name": "stderr",
     "output_type": "stream",
     "text": [
      "D:\\Users\\Jonathan\\Anaconda3\\lib\\site-packages\\sklearn\\ensemble\\forest.py:453: UserWarning: Some inputs do not have OOB scores. This probably means too few trees were used to compute any reliable oob estimates.\n",
      "  warn(\"Some inputs do not have OOB scores. \"\n",
      "D:\\Users\\Jonathan\\Anaconda3\\lib\\site-packages\\sklearn\\ensemble\\forest.py:458: RuntimeWarning: invalid value encountered in true_divide\n",
      "  predictions[k].sum(axis=1)[:, np.newaxis])\n"
     ]
    },
    {
     "name": "stdout",
     "output_type": "stream",
     "text": [
      "calculating for trees = 20\n"
     ]
    },
    {
     "name": "stderr",
     "output_type": "stream",
     "text": [
      "D:\\Users\\Jonathan\\Anaconda3\\lib\\site-packages\\sklearn\\ensemble\\forest.py:453: UserWarning: Some inputs do not have OOB scores. This probably means too few trees were used to compute any reliable oob estimates.\n",
      "  warn(\"Some inputs do not have OOB scores. \"\n",
      "D:\\Users\\Jonathan\\Anaconda3\\lib\\site-packages\\sklearn\\ensemble\\forest.py:458: RuntimeWarning: invalid value encountered in true_divide\n",
      "  predictions[k].sum(axis=1)[:, np.newaxis])\n"
     ]
    },
    {
     "name": "stdout",
     "output_type": "stream",
     "text": [
      "calculating for trees = 30\n"
     ]
    },
    {
     "name": "stderr",
     "output_type": "stream",
     "text": [
      "D:\\Users\\Jonathan\\Anaconda3\\lib\\site-packages\\sklearn\\ensemble\\forest.py:453: UserWarning: Some inputs do not have OOB scores. This probably means too few trees were used to compute any reliable oob estimates.\n",
      "  warn(\"Some inputs do not have OOB scores. \"\n",
      "D:\\Users\\Jonathan\\Anaconda3\\lib\\site-packages\\sklearn\\ensemble\\forest.py:458: RuntimeWarning: invalid value encountered in true_divide\n",
      "  predictions[k].sum(axis=1)[:, np.newaxis])\n"
     ]
    },
    {
     "name": "stdout",
     "output_type": "stream",
     "text": [
      "calculating for trees = 40\n",
      "calculating for trees = 50\n",
      "calculating for trees = 60\n",
      "calculating for trees = 70\n",
      "calculating for trees = 80\n",
      "calculating for trees = 90\n",
      "calculating for trees = 100\n"
     ]
    }
   ],
   "source": [
    "from sklearn.ensemble import RandomForestClassifier\n",
    "\n",
    "trees = [5, 10, 20, 30, 40, 50, 60, 70, 80, 90, 100]\n",
    "oob_loss = []\n",
    "test_scores = []\n",
    "\n",
    "for i in trees:\n",
    "    print('calculating for trees =', i)\n",
    "    classifier = RandomForestClassifier(n_estimators = i, criterion = 'entropy', oob_score = True)\n",
    "    classifier.fit(X_train, Y_train)\n",
    "\n",
    "\n",
    "    oob_loss.append(1-classifier.oob_score_)\n",
    "    test_scores.append(classifier.score(X_test,Y_test))\n"
   ]
  },
  {
   "cell_type": "code",
   "execution_count": 19,
   "metadata": {},
   "outputs": [
    {
     "name": "stderr",
     "output_type": "stream",
     "text": [
      "D:\\Users\\Jonathan\\Anaconda3\\lib\\site-packages\\sklearn\\ensemble\\forest.py:453: UserWarning: Some inputs do not have OOB scores. This probably means too few trees were used to compute any reliable oob estimates.\n",
      "  warn(\"Some inputs do not have OOB scores. \"\n",
      "D:\\Users\\Jonathan\\Anaconda3\\lib\\site-packages\\sklearn\\ensemble\\forest.py:458: RuntimeWarning: invalid value encountered in true_divide\n",
      "  predictions[k].sum(axis=1)[:, np.newaxis])\n"
     ]
    }
   ],
   "source": [
    "classifier = RandomForestClassifier(n_estimators = 1, criterion = 'entropy', oob_score = True)\n",
    "classifier.fit(X_train, Y_train)\n",
    "\n",
    "one_tree_oob = 1-classifier.oob_score_"
   ]
  },
  {
   "cell_type": "code",
   "execution_count": 26,
   "metadata": {},
   "outputs": [],
   "source": [
    "oob_losses = [one_tree_oob] + oob_loss"
   ]
  },
  {
   "cell_type": "code",
   "execution_count": 35,
   "metadata": {},
   "outputs": [
    {
     "data": {
      "text/plain": [
       "Text(0.5,1,'OOB Loss Against Number of Trees')"
      ]
     },
     "execution_count": 35,
     "metadata": {},
     "output_type": "execute_result"
    },
    {
     "data": {
      "image/png": "[encoded data removed]",
      "text/plain": [
       "<matplotlib.figure.Figure at 0x207018a7278>"
      ]
     },
     "metadata": {},
     "output_type": "display_data"
    }
   ],
   "source": [
    "import matplotlib.pyplot as plt\n",
    "\n",
    "no_trees = [1, 5, 10, 20, 30, 40, 50, 60, 70, 80, 90, 100]\n",
    "\n",
    "fig, ax = plt.subplots(figsize = (14,8))\n",
    "\n",
    "plt.plot(oob_losses)\n",
    "\n",
    "x = [i for i in range(len(no_trees))]\n",
    "plt.xticks(x, no_trees)\n",
    "plt.tick_params(labelsize=18)\n",
    "ax.set_xlabel('Number of Trees', fontsize = 20)\n",
    "ax.set_ylabel('OOB Loss', fontsize = 20)\n",
    "ax.set_title('OOB Loss Against Number of Trees', fontsize = 20)"
   ]
  },
  {
   "cell_type": "markdown",
   "metadata": {},
   "source": [
    "### 4. Optimizing Random Forest Classifier Parameters Using K-cross Validation"
   ]
  },
  {
   "cell_type": "code",
   "execution_count": 62,
   "metadata": {
    "scrolled": true
   },
   "outputs": [
    {
     "name": "stdout",
     "output_type": "stream",
     "text": [
      "Training for n_estimators =  10\n",
      "... for max_depth =  50\n",
      "... for max_depth =  60\n",
      "... for max_depth =  70\n",
      "... for max_depth =  80\n",
      "... for max_depth =  90\n",
      "... for max_depth =  100\n",
      "... for max_depth =  None\n",
      "Training for n_estimators =  20\n",
      "... for max_depth =  50\n",
      "... for max_depth =  60\n",
      "... for max_depth =  70\n",
      "... for max_depth =  80\n",
      "... for max_depth =  90\n",
      "... for max_depth =  100\n",
      "... for max_depth =  None\n",
      "Training for n_estimators =  30\n",
      "... for max_depth =  50\n",
      "... for max_depth =  60\n",
      "... for max_depth =  70\n",
      "... for max_depth =  80\n",
      "... for max_depth =  90\n",
      "... for max_depth =  100\n",
      "... for max_depth =  None\n",
      "Training for n_estimators =  40\n",
      "... for max_depth =  50\n",
      "... for max_depth =  60\n",
      "... for max_depth =  70\n",
      "... for max_depth =  80\n",
      "... for max_depth =  90\n",
      "... for max_depth =  100\n",
      "... for max_depth =  None\n",
      "Training for n_estimators =  50\n",
      "... for max_depth =  50\n",
      "... for max_depth =  60\n",
      "... for max_depth =  70\n",
      "... for max_depth =  80\n",
      "... for max_depth =  90\n",
      "... for max_depth =  100\n",
      "... for max_depth =  None\n",
      "Training for n_estimators =  60\n",
      "... for max_depth =  50\n",
      "... for max_depth =  60\n",
      "... for max_depth =  70\n",
      "... for max_depth =  80\n",
      "... for max_depth =  90\n",
      "... for max_depth =  100\n",
      "... for max_depth =  None\n",
      "Training for n_estimators =  70\n",
      "... for max_depth =  50\n",
      "... for max_depth =  60\n",
      "... for max_depth =  70\n",
      "... for max_depth =  80\n",
      "... for max_depth =  90\n",
      "... for max_depth =  100\n",
      "... for max_depth =  None\n",
      "Training for n_estimators =  80\n",
      "... for max_depth =  50\n",
      "... for max_depth =  60\n",
      "... for max_depth =  70\n",
      "... for max_depth =  80\n",
      "... for max_depth =  90\n",
      "... for max_depth =  100\n",
      "... for max_depth =  None\n",
      "Training for n_estimators =  90\n",
      "... for max_depth =  50\n",
      "... for max_depth =  60\n",
      "... for max_depth =  70\n",
      "... for max_depth =  80\n",
      "... for max_depth =  90\n",
      "... for max_depth =  100\n",
      "... for max_depth =  None\n",
      "Training for n_estimators =  100\n",
      "... for max_depth =  50\n",
      "... for max_depth =  60\n",
      "... for max_depth =  70\n",
      "... for max_depth =  80\n",
      "... for max_depth =  90\n",
      "... for max_depth =  100\n",
      "... for max_depth =  None\n"
     ]
    }
   ],
   "source": [
    "from sklearn.model_selection import cross_val_score\n",
    "\n",
    "n_estimators = [10,20,30,40,50,60,70,80,90,100]\n",
    "max_depth = [50,60,70,80,90,100,None]\n",
    "# Usually, min_samples_split = 2 and min_samples_leaf = 1 give the best results. \n",
    "k = 5\n",
    "\n",
    "opt_estimators = 0\n",
    "opt_depth = 0\n",
    "best_score = 0\n",
    "all_scores = []\n",
    "\n",
    "for n_est in n_estimators:\n",
    "    print('Training for n_estimators = ', n_est)\n",
    "    for depth in max_depth:\n",
    "        print('... for max_depth = ', depth)\n",
    "        clf = RandomForestClassifier(n_estimators = n_est, max_depth = depth,\\\n",
    "                                    min_samples_split = 2, min_samples_leaf = 1)\n",
    "        k_score = np.mean(cross_val_score(clf, X_train, Y_train, cv = k))\n",
    "        all_scores.append(k_score)\n",
    "\n",
    "        if k_score > best_score:\n",
    "            opt_estimators = n_est\n",
    "            opt_depth = depth\n",
    "            best_score = k_score"
   ]
  },
  {
   "cell_type": "code",
   "execution_count": 65,
   "metadata": {},
   "outputs": [
    {
     "name": "stdout",
     "output_type": "stream",
     "text": [
      "100\n",
      "60\n",
      "0.7139181798629457\n",
      "[[0.70439026 0.70468535 0.70523401 0.7049689  0.70545993 0.70504959\n",
      "  0.70501962]\n",
      " [0.71002218 0.70949425 0.71002448 0.71034722 0.71044405 0.70950809\n",
      "  0.70999451]\n",
      " [0.71167509 0.7112417  0.71166357 0.71196326 0.71149298 0.71190793\n",
      "  0.7114169 ]\n",
      " [0.71262489 0.71289922 0.71201167 0.71265486 0.71278857 0.71260184\n",
      "  0.71210389]\n",
      " [0.71343175 0.71296839 0.71333032 0.71282315 0.71304446 0.71273324\n",
      "  0.71222837]\n",
      " [0.71328652 0.71337873 0.71307213 0.71302371 0.71386516 0.71290844\n",
      "  0.71310209]\n",
      " [0.71326577 0.71287386 0.71361618 0.7133234  0.71259954 0.71338565\n",
      "  0.71319892]\n",
      " [0.71328422 0.71341331 0.71358852 0.71376141 0.71340409 0.71330957\n",
      "  0.7132335 ]\n",
      " [0.71333724 0.71378908 0.71357239 0.71344097 0.71364154 0.71367381\n",
      "  0.71383749]\n",
      " [0.71345481 0.71391818 0.7134502  0.71369226 0.71349631 0.71354933\n",
      "  0.71342023]]\n"
     ]
    }
   ],
   "source": [
    "print(opt_estimators)\n",
    "print(opt_depth)\n",
    "print(best_score)\n",
    "print(np.asarray(all_scores).reshape(10,7))"
   ]
  },
  {
   "cell_type": "code",
   "execution_count": 66,
   "metadata": {},
   "outputs": [
    {
     "name": "stdout",
     "output_type": "stream",
     "text": [
      "Score with optimized parameters: 0.7401455843977476\n"
     ]
    }
   ],
   "source": [
    "opt_clf = RandomForestClassifier(n_estimators = opt_estimators, max_depth = opt_depth, min_samples_split = 2,\\\n",
    "                            min_samples_leaf = 1)\n",
    "opt_clf.fit(X_train, Y_train)\n",
    "print('Score with optimized parameters:', opt_clf.score(X_test, Y_test))"
   ]
  },
  {
   "cell_type": "code",
   "execution_count": 67,
   "metadata": {},
   "outputs": [
    {
     "name": "stdout",
     "output_type": "stream",
     "text": [
      "          Predicted 1  Predicted 2  Predicted 3\n",
      "Actual 1        21107         6519         3197\n",
      "Actual 2         4964        27264         3832\n",
      "Actual 3          196          212         5519\n"
     ]
    }
   ],
   "source": [
    "ConfusionMatrix = pd.DataFrame(confusion_matrix(Y_test,opt_clf.predict(X_test)), columns = ['Predicted 1', 'Predicted 2','Predicted 3'], index = ['Actual 1', 'Actual 2','Actual 3'])\n",
    "print(ConfusionMatrix)"
   ]
  },
  {
   "cell_type": "markdown",
   "metadata": {},
   "source": [
    "### 5. Gini Importance of Features"
   ]
  },
  {
   "cell_type": "code",
   "execution_count": 68,
   "metadata": {
    "scrolled": true
   },
   "outputs": [
    {
     "data": {
      "text/html": [
       "<div>\n",
       "<style scoped>\n",
       "    .dataframe tbody tr th:only-of-type {\n",
       "        vertical-align: middle;\n",
       "    }\n",
       "\n",
       "    .dataframe tbody tr th {\n",
       "        vertical-align: top;\n",
       "    }\n",
       "\n",
       "    .dataframe thead th {\n",
       "        text-align: right;\n",
       "    }\n",
       "</style>\n",
       "<table border=\"1\" class=\"dataframe\">\n",
       "  <thead>\n",
       "    <tr style=\"text-align: right;\">\n",
       "      <th></th>\n",
       "      <th>importance</th>\n",
       "    </tr>\n",
       "  </thead>\n",
       "  <tbody>\n",
       "    <tr>\n",
       "      <th>CRASH_HOUR</th>\n",
       "      <td>0.273147</td>\n",
       "    </tr>\n",
       "    <tr>\n",
       "      <th>CRASH_MONTH</th>\n",
       "      <td>0.243401</td>\n",
       "    </tr>\n",
       "    <tr>\n",
       "      <th>CRASH_DAY_OF_WEEK</th>\n",
       "      <td>0.175532</td>\n",
       "    </tr>\n",
       "    <tr>\n",
       "      <th>POSTED_SPEED_LIMIT</th>\n",
       "      <td>0.067039</td>\n",
       "    </tr>\n",
       "    <tr>\n",
       "      <th>WEATHER_CONDITION_RAIN</th>\n",
       "      <td>0.018068</td>\n",
       "    </tr>\n",
       "    <tr>\n",
       "      <th>PRIM_CONTRIBUTORY_CAUSE_unknown</th>\n",
       "      <td>0.013744</td>\n",
       "    </tr>\n",
       "    <tr>\n",
       "      <th>LIGHTING_CONDITION_DAYLIGHT</th>\n",
       "      <td>0.009969</td>\n",
       "    </tr>\n",
       "    <tr>\n",
       "      <th>WEATHER_CONDITION_SNOW</th>\n",
       "      <td>0.009463</td>\n",
       "    </tr>\n",
       "    <tr>\n",
       "      <th>WEATHER_CONDITION_CLOUDY/OVERCAST</th>\n",
       "      <td>0.009365</td>\n",
       "    </tr>\n",
       "    <tr>\n",
       "      <th>TRAFFICWAY_TYPE_NOT DIVIDED</th>\n",
       "      <td>0.009222</td>\n",
       "    </tr>\n",
       "    <tr>\n",
       "      <th>MANEUVER_STRAIGHT AHEAD</th>\n",
       "      <td>0.009195</td>\n",
       "    </tr>\n",
       "    <tr>\n",
       "      <th>LIGHTING_CONDITION_DARKNESS, LIGHTED ROAD</th>\n",
       "      <td>0.009005</td>\n",
       "    </tr>\n",
       "    <tr>\n",
       "      <th>TRAFFICWAY_TYPE_DIVIDED - W/MEDIAN (NOT RAISED)</th>\n",
       "      <td>0.008580</td>\n",
       "    </tr>\n",
       "    <tr>\n",
       "      <th>PRIM_CONTRIBUTORY_CAUSE_driver_violation</th>\n",
       "      <td>0.008399</td>\n",
       "    </tr>\n",
       "    <tr>\n",
       "      <th>MANEUVER_BACKING</th>\n",
       "      <td>0.008248</td>\n",
       "    </tr>\n",
       "    <tr>\n",
       "      <th>MANEUVER_SLOW/STOP IN TRAFFIC</th>\n",
       "      <td>0.006844</td>\n",
       "    </tr>\n",
       "    <tr>\n",
       "      <th>TRAFFICWAY_TYPE_PARKING LOT</th>\n",
       "      <td>0.006828</td>\n",
       "    </tr>\n",
       "    <tr>\n",
       "      <th>TRAFFICWAY_TYPE_ONE-WAY</th>\n",
       "      <td>0.006437</td>\n",
       "    </tr>\n",
       "    <tr>\n",
       "      <th>WEATHER_CONDITION_UNKNOWN</th>\n",
       "      <td>0.005752</td>\n",
       "    </tr>\n",
       "    <tr>\n",
       "      <th>TRAFFICWAY_TYPE_DIVIDED - W/MEDIAN BARRIER</th>\n",
       "      <td>0.005483</td>\n",
       "    </tr>\n",
       "    <tr>\n",
       "      <th>MANEUVER_TURNING LEFT</th>\n",
       "      <td>0.005458</td>\n",
       "    </tr>\n",
       "    <tr>\n",
       "      <th>LIGHTING_CONDITION_DUSK</th>\n",
       "      <td>0.005425</td>\n",
       "    </tr>\n",
       "    <tr>\n",
       "      <th>MANEUVER_UNKNOWN/NA</th>\n",
       "      <td>0.005390</td>\n",
       "    </tr>\n",
       "    <tr>\n",
       "      <th>PRIM_CONTRIBUTORY_CAUSE_driver_condition</th>\n",
       "      <td>0.005119</td>\n",
       "    </tr>\n",
       "    <tr>\n",
       "      <th>TRAFFICWAY_TYPE_OTHER</th>\n",
       "      <td>0.004966</td>\n",
       "    </tr>\n",
       "    <tr>\n",
       "      <th>MANEUVER_TURNING RIGHT</th>\n",
       "      <td>0.004478</td>\n",
       "    </tr>\n",
       "    <tr>\n",
       "      <th>MANEUVER_OTHER</th>\n",
       "      <td>0.004027</td>\n",
       "    </tr>\n",
       "    <tr>\n",
       "      <th>LIGHTING_CONDITION_DAWN</th>\n",
       "      <td>0.003987</td>\n",
       "    </tr>\n",
       "    <tr>\n",
       "      <th>MANEUVER_CHANGING LANES</th>\n",
       "      <td>0.003608</td>\n",
       "    </tr>\n",
       "    <tr>\n",
       "      <th>MANEUVER_PASSING/OVERTAKING</th>\n",
       "      <td>0.003492</td>\n",
       "    </tr>\n",
       "    <tr>\n",
       "      <th>PRIM_CONTRIBUTORY_CAUSE_driver_distracted</th>\n",
       "      <td>0.003472</td>\n",
       "    </tr>\n",
       "    <tr>\n",
       "      <th>PRIM_CONTRIBUTORY_CAUSE_environment</th>\n",
       "      <td>0.003387</td>\n",
       "    </tr>\n",
       "    <tr>\n",
       "      <th>LIGHTING_CONDITION_UNKNOWN</th>\n",
       "      <td>0.003329</td>\n",
       "    </tr>\n",
       "    <tr>\n",
       "      <th>PRIM_CONTRIBUTORY_CAUSE_driver_skill</th>\n",
       "      <td>0.003316</td>\n",
       "    </tr>\n",
       "    <tr>\n",
       "      <th>TRAFFICWAY_TYPE_CENTER TURN LANE</th>\n",
       "      <td>0.002944</td>\n",
       "    </tr>\n",
       "    <tr>\n",
       "      <th>TRAFFICWAY_TYPE_UNKNOWN</th>\n",
       "      <td>0.002895</td>\n",
       "    </tr>\n",
       "    <tr>\n",
       "      <th>MANEUVER_STARTING IN TRAFFIC</th>\n",
       "      <td>0.002498</td>\n",
       "    </tr>\n",
       "    <tr>\n",
       "      <th>MANEUVER_ENTERING TRAFFIC LANE FROM PARKING</th>\n",
       "      <td>0.002434</td>\n",
       "    </tr>\n",
       "    <tr>\n",
       "      <th>MANEUVER_SKIDDING/CONTROL LOSS</th>\n",
       "      <td>0.002180</td>\n",
       "    </tr>\n",
       "    <tr>\n",
       "      <th>WEATHER_CONDITION_OTHER</th>\n",
       "      <td>0.002175</td>\n",
       "    </tr>\n",
       "    <tr>\n",
       "      <th>MANEUVER_SLOW/STOP - LEFT TURN</th>\n",
       "      <td>0.002157</td>\n",
       "    </tr>\n",
       "    <tr>\n",
       "      <th>MANEUVER_U-TURN</th>\n",
       "      <td>0.001931</td>\n",
       "    </tr>\n",
       "    <tr>\n",
       "      <th>MANEUVER_MERGING</th>\n",
       "      <td>0.001889</td>\n",
       "    </tr>\n",
       "    <tr>\n",
       "      <th>MANEUVER_ENTER FROM DRIVE/ALLEY</th>\n",
       "      <td>0.001845</td>\n",
       "    </tr>\n",
       "    <tr>\n",
       "      <th>MANEUVER_LEAVING TRAFFIC LANE TO PARK</th>\n",
       "      <td>0.001729</td>\n",
       "    </tr>\n",
       "    <tr>\n",
       "      <th>MANEUVER_SLOW/STOP - RIGHT TURN</th>\n",
       "      <td>0.001629</td>\n",
       "    </tr>\n",
       "    <tr>\n",
       "      <th>PRIM_CONTRIBUTORY_CAUSE_vehicle_condition</th>\n",
       "      <td>0.001572</td>\n",
       "    </tr>\n",
       "    <tr>\n",
       "      <th>WEATHER_CONDITION_FOG/SMOKE/HAZE</th>\n",
       "      <td>0.001429</td>\n",
       "    </tr>\n",
       "    <tr>\n",
       "      <th>TRAFFICWAY_TYPE_RAMP</th>\n",
       "      <td>0.001383</td>\n",
       "    </tr>\n",
       "    <tr>\n",
       "      <th>MANEUVER_SLOW/STOP - LOAD/UNLOAD</th>\n",
       "      <td>0.001295</td>\n",
       "    </tr>\n",
       "    <tr>\n",
       "      <th>WEATHER_CONDITION_SLEET/HAIL</th>\n",
       "      <td>0.001200</td>\n",
       "    </tr>\n",
       "    <tr>\n",
       "      <th>TRAFFICWAY_TYPE_DRIVEWAY</th>\n",
       "      <td>0.001142</td>\n",
       "    </tr>\n",
       "    <tr>\n",
       "      <th>MANEUVER_DRIVING WRONG WAY</th>\n",
       "      <td>0.000969</td>\n",
       "    </tr>\n",
       "    <tr>\n",
       "      <th>MANEUVER_NEGOTIATING A CURVE</th>\n",
       "      <td>0.000897</td>\n",
       "    </tr>\n",
       "    <tr>\n",
       "      <th>MANEUVER_TURNING ON RED</th>\n",
       "      <td>0.000335</td>\n",
       "    </tr>\n",
       "    <tr>\n",
       "      <th>WEATHER_CONDITION_SEVERE CROSS WIND GATE</th>\n",
       "      <td>0.000133</td>\n",
       "    </tr>\n",
       "    <tr>\n",
       "      <th>MANEUVER_DIVERGING</th>\n",
       "      <td>0.000120</td>\n",
       "    </tr>\n",
       "    <tr>\n",
       "      <th>PRIM_CONTRIBUTORY_CAUSE_MOTORCYCLE ADVANCING LEGALLY ON RED LIGHT</th>\n",
       "      <td>0.000045</td>\n",
       "    </tr>\n",
       "  </tbody>\n",
       "</table>\n",
       "</div>"
      ],
      "text/plain": [
       "                                                    importance\n",
       "CRASH_HOUR                                            0.273147\n",
       "CRASH_MONTH                                           0.243401\n",
       "CRASH_DAY_OF_WEEK                                     0.175532\n",
       "POSTED_SPEED_LIMIT                                    0.067039\n",
       "WEATHER_CONDITION_RAIN                                0.018068\n",
       "PRIM_CONTRIBUTORY_CAUSE_unknown                       0.013744\n",
       "LIGHTING_CONDITION_DAYLIGHT                           0.009969\n",
       "WEATHER_CONDITION_SNOW                                0.009463\n",
       "WEATHER_CONDITION_CLOUDY/OVERCAST                     0.009365\n",
       "TRAFFICWAY_TYPE_NOT DIVIDED                           0.009222\n",
       "MANEUVER_STRAIGHT AHEAD                               0.009195\n",
       "LIGHTING_CONDITION_DARKNESS, LIGHTED ROAD             0.009005\n",
       "TRAFFICWAY_TYPE_DIVIDED - W/MEDIAN (NOT RAISED)       0.008580\n",
       "PRIM_CONTRIBUTORY_CAUSE_driver_violation              0.008399\n",
       "MANEUVER_BACKING                                      0.008248\n",
       "MANEUVER_SLOW/STOP IN TRAFFIC                         0.006844\n",
       "TRAFFICWAY_TYPE_PARKING LOT                           0.006828\n",
       "TRAFFICWAY_TYPE_ONE-WAY                               0.006437\n",
       "WEATHER_CONDITION_UNKNOWN                             0.005752\n",
       "TRAFFICWAY_TYPE_DIVIDED - W/MEDIAN BARRIER            0.005483\n",
       "MANEUVER_TURNING LEFT                                 0.005458\n",
       "LIGHTING_CONDITION_DUSK                               0.005425\n",
       "MANEUVER_UNKNOWN/NA                                   0.005390\n",
       "PRIM_CONTRIBUTORY_CAUSE_driver_condition              0.005119\n",
       "TRAFFICWAY_TYPE_OTHER                                 0.004966\n",
       "MANEUVER_TURNING RIGHT                                0.004478\n",
       "MANEUVER_OTHER                                        0.004027\n",
       "LIGHTING_CONDITION_DAWN                               0.003987\n",
       "MANEUVER_CHANGING LANES                               0.003608\n",
       "MANEUVER_PASSING/OVERTAKING                           0.003492\n",
       "PRIM_CONTRIBUTORY_CAUSE_driver_distracted             0.003472\n",
       "PRIM_CONTRIBUTORY_CAUSE_environment                   0.003387\n",
       "LIGHTING_CONDITION_UNKNOWN                            0.003329\n",
       "PRIM_CONTRIBUTORY_CAUSE_driver_skill                  0.003316\n",
       "TRAFFICWAY_TYPE_CENTER TURN LANE                      0.002944\n",
       "TRAFFICWAY_TYPE_UNKNOWN                               0.002895\n",
       "MANEUVER_STARTING IN TRAFFIC                          0.002498\n",
       "MANEUVER_ENTERING TRAFFIC LANE FROM PARKING           0.002434\n",
       "MANEUVER_SKIDDING/CONTROL LOSS                        0.002180\n",
       "WEATHER_CONDITION_OTHER                               0.002175\n",
       "MANEUVER_SLOW/STOP - LEFT TURN                        0.002157\n",
       "MANEUVER_U-TURN                                       0.001931\n",
       "MANEUVER_MERGING                                      0.001889\n",
       "MANEUVER_ENTER FROM DRIVE/ALLEY                       0.001845\n",
       "MANEUVER_LEAVING TRAFFIC LANE TO PARK                 0.001729\n",
       "MANEUVER_SLOW/STOP - RIGHT TURN                       0.001629\n",
       "PRIM_CONTRIBUTORY_CAUSE_vehicle_condition             0.001572\n",
       "WEATHER_CONDITION_FOG/SMOKE/HAZE                      0.001429\n",
       "TRAFFICWAY_TYPE_RAMP                                  0.001383\n",
       "MANEUVER_SLOW/STOP - LOAD/UNLOAD                      0.001295\n",
       "WEATHER_CONDITION_SLEET/HAIL                          0.001200\n",
       "TRAFFICWAY_TYPE_DRIVEWAY                              0.001142\n",
       "MANEUVER_DRIVING WRONG WAY                            0.000969\n",
       "MANEUVER_NEGOTIATING A CURVE                          0.000897\n",
       "MANEUVER_TURNING ON RED                               0.000335\n",
       "WEATHER_CONDITION_SEVERE CROSS WIND GATE              0.000133\n",
       "MANEUVER_DIVERGING                                    0.000120\n",
       "PRIM_CONTRIBUTORY_CAUSE_MOTORCYCLE ADVANCING LE...    0.000045"
      ]
     },
     "execution_count": 68,
     "metadata": {},
     "output_type": "execute_result"
    }
   ],
   "source": [
    "feature_impt = pd.DataFrame(opt_clf.feature_importances_, index = X_train.columns, columns = ['importance'])\n",
    "feature_impt.sort_values(by = 'importance',ascending = False)"
   ]
  },
  {
   "cell_type": "code",
   "execution_count": 11,
   "metadata": {},
   "outputs": [
    {
     "name": "stdout",
     "output_type": "stream",
     "text": [
      "[(1, 144681), (2, 144681), (3, 144681)]\n",
      "0.35144897678890263\n",
      "          Predicted 1  Predicted 2  Predicted 3\n",
      "Actual 1        14524         5228        11071\n",
      "Actual 2        12778         7102        16180\n",
      "Actual 3         1161          803         3963\n",
      "0.5650185414091471\n",
      "          Predicted 1  Predicted 2  Predicted 3\n",
      "Actual 1        17376        12612          835\n",
      "Actual 2        12558        22345         1157\n",
      "Actual 3         1718         2791         1418\n"
     ]
    }
   ],
   "source": [
    "#Approach 3: SMOTE\n",
    "categorize_label = lambda x: x.astype('category')\n",
    "labels = ['WEATHER_CONDITION', 'CRASH_DAY_OF_WEEK','LIGHTING_CONDITION','MANEUVER', 'TRAFFICWAY_TYPE', 'PRIM_CONTRIBUTORY_CAUSE']\n",
    "# Convert df[LABELS] to a categorical type\n",
    "df[labels] = df[labels].astype('category')\n",
    "df = pd.get_dummies(df, drop_first = True)\n",
    "\n",
    "\n",
    "train_df1, test_df1 = train_test_split(df, test_size=0.2, random_state=100)\n",
    "X_train_SMOTE = train_df1.drop(columns = 'COMBINED_DANGER_SCORE')\n",
    "Y_train_SMOTE = train_df1.COMBINED_DANGER_SCORE\n",
    "X_test_SMOTE = test_df1.drop(columns = 'COMBINED_DANGER_SCORE')\n",
    "Y_test_SMOTE = test_df1.COMBINED_DANGER_SCORE\n",
    "\n",
    "X_resampled_SMOTE, Y_resampled_SMOTE = SMOTE().fit_sample(X_train_SMOTE, Y_train_SMOTE)\n",
    "print(sorted(Counter(Y_resampled_SMOTE).items()))\n",
    "\n",
    "\n",
    "LogisticRegressionModel.fit(X_resampled_SMOTE,Y_resampled_SMOTE)\n",
    "print(LogisticRegressionModel.score(X_test,Y_test))\n",
    "\n",
    "Y_true_SMOTE = Y_test_SMOTE\n",
    "Y_pred_SMOTE = LogisticRegressionModel.predict(X_test_SMOTE)\n",
    "ConfusionMatrix = pd.DataFrame(confusion_matrix(Y_true_SMOTE,Y_pred_SMOTE), columns = ['Predicted 1', 'Predicted 2','Predicted 3'], index = ['Actual 1', 'Actual 2','Actual 3'])\n",
    "print(ConfusionMatrix)\n",
    "\n",
    "\n",
    "# random forest\n",
    "from sklearn.ensemble import RandomForestClassifier\n",
    "classifier = RandomForestClassifier(n_estimators = 10, criterion = 'entropy')\n",
    "classifier.fit(X_train_SMOTE, Y_train_SMOTE)\n",
    "Y_pred_forest = classifier.predict(X_test_SMOTE)\n",
    "Y_true_forest = Y_test_SMOTE\n",
    "\n",
    "\n",
    "print(classifier.score(X_test_SMOTE,Y_test_SMOTE))\n",
    "\n",
    "ConfusionMatrix = pd.DataFrame(confusion_matrix(Y_true_forest,Y_pred_forest), columns = ['Predicted 1', 'Predicted 2','Predicted 3'], index = ['Actual 1', 'Actual 2','Actual 3'])\n",
    "print(ConfusionMatrix)\n",
    "\n",
    "\n"
   ]
  },
  {
   "cell_type": "code",
   "execution_count": 12,
   "metadata": {},
   "outputs": [],
   "source": [
    "# Approach 4: ADASYN\n",
    "\n",
    "# sm = ADASYN()\n",
    "# X_resampled_ADASYN, Y_resampled_ADASYN = sm.fit_sample(X_train, Y_train)\n",
    "# print(sorted(Counter(Y_resampled_ADASYN).items()))\n",
    "\n",
    "\n",
    "# LogisticRegressionModel.fit(X_resampled_ADASYN,Y_resampled_ADASYN)\n",
    "# print(LogisticRegressionModel.score(X_test,Y_test))\n",
    "\n",
    "# Y_true = Y_test\n",
    "# Y_pred = LogisticRegressionModel.predict(X_test)\n",
    "# ConfusionMatrix = pd.DataFrame(confusion_matrix(Y_true,Y_pred), columns = ['Predicted 1', 'Predicted 2','Predicted 3'], index = ['Actual 1', 'Actual 2','Actual 3'])\n",
    "# ConfusionMatrix\n"
   ]
  },
  {
   "cell_type": "code",
   "execution_count": 13,
   "metadata": {},
   "outputs": [
    {
     "name": "stdout",
     "output_type": "stream",
     "text": [
      "0.7352973492652108\n"
     ]
    },
    {
     "data": {
      "text/html": [
       "<div>\n",
       "<style scoped>\n",
       "    .dataframe tbody tr th:only-of-type {\n",
       "        vertical-align: middle;\n",
       "    }\n",
       "\n",
       "    .dataframe tbody tr th {\n",
       "        vertical-align: top;\n",
       "    }\n",
       "\n",
       "    .dataframe thead th {\n",
       "        text-align: right;\n",
       "    }\n",
       "</style>\n",
       "<table border=\"1\" class=\"dataframe\">\n",
       "  <thead>\n",
       "    <tr style=\"text-align: right;\">\n",
       "      <th></th>\n",
       "      <th>Predicted 1</th>\n",
       "      <th>Predicted 2</th>\n",
       "      <th>Predicted 3</th>\n",
       "    </tr>\n",
       "  </thead>\n",
       "  <tbody>\n",
       "    <tr>\n",
       "      <th>Actual 1</th>\n",
       "      <td>21340</td>\n",
       "      <td>6201</td>\n",
       "      <td>3282</td>\n",
       "    </tr>\n",
       "    <tr>\n",
       "      <th>Actual 2</th>\n",
       "      <td>5438</td>\n",
       "      <td>26689</td>\n",
       "      <td>3933</td>\n",
       "    </tr>\n",
       "    <tr>\n",
       "      <th>Actual 3</th>\n",
       "      <td>221</td>\n",
       "      <td>198</td>\n",
       "      <td>5508</td>\n",
       "    </tr>\n",
       "  </tbody>\n",
       "</table>\n",
       "</div>"
      ],
      "text/plain": [
       "          Predicted 1  Predicted 2  Predicted 3\n",
       "Actual 1        21340         6201         3282\n",
       "Actual 2         5438        26689         3933\n",
       "Actual 3          221          198         5508"
      ]
     },
     "execution_count": 13,
     "metadata": {},
     "output_type": "execute_result"
    }
   ],
   "source": [
    "# random forest\n",
    "from sklearn.ensemble import RandomForestClassifier\n",
    "classifier = RandomForestClassifier(n_estimators = 10, criterion = 'entropy')\n",
    "classifier.fit(X_train, Y_train)\n",
    "Y_pred_forest = classifier.predict(X_test)\n",
    "Y_true_forest = Y_test\n",
    "\n",
    "\n",
    "print(classifier.score(X_test,Y_test))\n",
    "\n",
    "ConfusionMatrix = pd.DataFrame(confusion_matrix(Y_true_forest,Y_pred_forest), columns = ['Predicted 1', 'Predicted 2','Predicted 3'], index = ['Actual 1', 'Actual 2','Actual 3'])\n",
    "ConfusionMatrix\n"
   ]
  },
  {
   "cell_type": "code",
   "execution_count": null,
   "metadata": {},
   "outputs": [],
   "source": []
  }
 ],
 "metadata": {
  "kernelspec": {
   "display_name": "Python 3",
   "language": "python",
   "name": "python3"
  },
  "language_info": {
   "codemirror_mode": {
    "name": "ipython",
    "version": 3
   },
   "file_extension": ".py",
   "mimetype": "text/x-python",
   "name": "python",
   "nbconvert_exporter": "python",
   "pygments_lexer": "ipython3",
   "version": "3.6.6"
  }
 },
 "nbformat": 4,
 "nbformat_minor": 2
}
